{
 "cells": [
  {
   "cell_type": "raw",
   "id": "4f41eb8d",
   "metadata": {},
   "source": [
    "---\n",
    "title: Hello 🌍🪐\n",
    "description: Hello app\n",
    "params:\n",
    "    planet:\n",
    "        input: select\n",
    "        label: Please select a planet\n",
    "        value: Earth\n",
    "        choices: [Mercury, Venus, Earth, Mars, Jupiter, Saturn, Uranus, Neptune]\n",
    "---\n"
   ]
  },
  {
   "cell_type": "code",
   "execution_count": null,
   "id": "ed530dd4",
   "metadata": {},
   "outputs": [],
   "source": [
    "planet=\"Earth\""
   ]
  },
  {
   "cell_type": "code",
   "execution_count": null,
   "id": "b2f25110",
   "metadata": {},
   "outputs": [],
   "source": [
    "print(f\"Hello {planet}!\")"
   ]
  }
 ],
 "metadata": {
  "kernelspec": {
   "display_name": "Python 3 (ipykernel)",
   "language": "python",
   "name": "python3"
  },
  "language_info": {
   "codemirror_mode": {
    "name": "ipython",
    "version": 3
   },
   "file_extension": ".py",
   "mimetype": "text/x-python",
   "name": "python",
   "nbconvert_exporter": "python",
   "pygments_lexer": "ipython3",
   "version": "3.10.6"
  }
 },
 "nbformat": 4,
 "nbformat_minor": 5
}
