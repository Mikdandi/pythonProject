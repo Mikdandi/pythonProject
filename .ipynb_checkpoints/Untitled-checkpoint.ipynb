{
 "cells": [
  {
   "cell_type": "raw",
   "id": "c5d9fb81",
   "metadata": {},
   "source": [
    "---\n",
    "title: Exploring London Weather Data\n",
    "description: How to use mercury to create a web app\n",
    "show-code: False\n",
    "params:\n",
    "   year:\n",
    "      input: slider\n",
    "      label: Select year\n",
    "      value: 1952\n",
    "      min: 1952\n",
    "      max: 2018\n",
    "---"
   ]
  },
  {
   "cell_type": "raw",
   "id": "f0b8603b",
   "metadata": {},
   "source": []
  },
  {
   "cell_type": "code",
   "execution_count": null,
   "id": "af454950",
   "metadata": {
    "pycharm": {
     "is_executing": true
    }
   },
   "outputs": [],
   "source": [
    "import mercury as mr\n",
    "import numpy as np\n",
    "import pandas as pd\n",
    "year = 1962\n",
    "weather=pd.read_csv('heathrowDataFiltered.csv')\n",
    "weather[weather['Year']==year].plot(y='Tmax', x='Month',\n",
    "   legend=False)\n",
    "print(f\"Monthly maximum temperatures for {year}\")"
   ]
  },
  {
   "cell_type": "code",
   "execution_count": null,
   "id": "ff1e66a3",
   "metadata": {
    "pycharm": {
     "is_executing": true
    }
   },
   "outputs": [],
   "source": []
  },
  {
   "cell_type": "raw",
   "id": "2901a3b6",
   "metadata": {},
   "source": []
  }
 ],
 "metadata": {
  "kernelspec": {
   "display_name": "Python 3 (ipykernel)",
   "language": "python",
   "name": "python3"
  },
  "language_info": {
   "codemirror_mode": {
    "name": "ipython",
    "version": 3
   },
   "file_extension": ".py",
   "mimetype": "text/x-python",
   "name": "python",
   "nbconvert_exporter": "python",
   "pygments_lexer": "ipython3",
   "version": "3.10.6"
  }
 },
 "nbformat": 4,
 "nbformat_minor": 5
}
